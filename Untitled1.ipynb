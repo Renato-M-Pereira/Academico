{
  "nbformat": 4,
  "nbformat_minor": 0,
  "metadata": {
    "colab": {
      "name": "Untitled1.ipynb",
      "provenance": [],
      "authorship_tag": "ABX9TyMRqvsGiCtW5kCLzUoUVPrI",
      "include_colab_link": true
    },
    "kernelspec": {
      "name": "python3",
      "display_name": "Python 3"
    },
    "language_info": {
      "name": "python"
    }
  },
  "cells": [
    {
      "cell_type": "markdown",
      "metadata": {
        "id": "view-in-github",
        "colab_type": "text"
      },
      "source": [
        "<a href=\"https://colab.research.google.com/github/Renato-M-Pereira/Academico/blob/main/Untitled1.ipynb\" target=\"_parent\"><img src=\"https://colab.research.google.com/assets/colab-badge.svg\" alt=\"Open In Colab\"/></a>"
      ]
    },
    {
      "cell_type": "markdown",
      "source": [
        "# **Sobre o Projeto**\n",
        "\n",
        "Projeto acadêmico realizado em **Python**.\n",
        "\n",
        "\n",
        "Em uma rua movimentada de São Paulo, foi realizada uma pesquisa com 30 pessoas, cujo objetivo era conhecer o perfil dos pedestres.\n",
        "Os entrevistados responderam às seguintes perguntas:\n",
        "1) Qual é a sua idade?;\n",
        "2) Qual é o seu gênero? (Masculino – M ou Feminino – F);\n",
        "3) Qual é o seu salário?\n",
        "Faça um Programa utilizando a linguagem Python utilizando comando de repetição (não utilize listas), que obtenha para cada entrevistado os dados referentes às perguntas anteriores.\n",
        "O Programa deve calcular e mostrar:\n",
        "a) A média de idade dos pedestres entrevistados;\n",
        "b) A média de salários dos entrevistados do gênero masculino"
      ],
      "metadata": {
        "id": "31PNkhxOF41Y"
      }
    },
    {
      "cell_type": "code",
      "execution_count": 1,
      "metadata": {
        "colab": {
          "base_uri": "https://localhost:8080/"
        },
        "id": "tHqDKYJs-dlj",
        "outputId": "2dec64ab-9b91-4a1b-9649-d4df4b6586e4"
      },
      "outputs": [
        {
          "output_type": "stream",
          "name": "stdout",
          "text": [
            "Qual é a sua idade?25\n",
            "Qual é o seu gênero? (Masculino - M ou Feminino - F)M\n",
            "Qual é o seu salário?250\n",
            "Qual é a sua idade?20\n",
            "Qual é o seu gênero? (Masculino - M ou Feminino - F)F\n",
            "Qual é o seu salário?200\n",
            "Qual é a sua idade?30\n",
            "Qual é o seu gênero? (Masculino - M ou Feminino - F)M\n",
            "Qual é o seu salário?400\n",
            "Qual é a sua idade?26\n",
            "Qual é o seu gênero? (Masculino - M ou Feminino - F)M\n",
            "Qual é o seu salário?450\n",
            "Qual é a sua idade?22\n",
            "Qual é o seu gênero? (Masculino - M ou Feminino - F)F\n",
            "Qual é o seu salário?300\n",
            "Qual é a sua idade?25\n",
            "Qual é o seu gênero? (Masculino - M ou Feminino - F)F\n",
            "Qual é o seu salário?300\n",
            "Qual é a sua idade?28\n",
            "Qual é o seu gênero? (Masculino - M ou Feminino - F)M\n",
            "Qual é o seu salário?450\n",
            "Qual é a sua idade?35\n",
            "Qual é o seu gênero? (Masculino - M ou Feminino - F)F\n",
            "Qual é o seu salário?500\n",
            "Qual é a sua idade?30\n",
            "Qual é o seu gênero? (Masculino - M ou Feminino - F)M\n",
            "Qual é o seu salário?350\n",
            "Qual é a sua idade?40\n",
            "Qual é o seu gênero? (Masculino - M ou Feminino - F)M\n",
            "Qual é o seu salário?250\n",
            "Qual é a sua idade?25\n",
            "Qual é o seu gênero? (Masculino - M ou Feminino - F)F\n",
            "Qual é o seu salário?250\n",
            "Qual é a sua idade?18\n",
            "Qual é o seu gênero? (Masculino - M ou Feminino - F)M \n",
            "Qual é o seu salário?150\n",
            "Qual é a sua idade?19\n",
            "Qual é o seu gênero? (Masculino - M ou Feminino - F)F\n",
            "Qual é o seu salário?200\n",
            "Qual é a sua idade?22\n",
            "Qual é o seu gênero? (Masculino - M ou Feminino - F)F\n",
            "Qual é o seu salário?200\n",
            "Qual é a sua idade?35\n",
            "Qual é o seu gênero? (Masculino - M ou Feminino - F)M\n",
            "Qual é o seu salário?450\n",
            "Qual é a sua idade?30\n",
            "Qual é o seu gênero? (Masculino - M ou Feminino - F)F\n",
            "Qual é o seu salário?350\n",
            "Qual é a sua idade?23\n",
            "Qual é o seu gênero? (Masculino - M ou Feminino - F)F\n",
            "Qual é o seu salário?350\n",
            "Qual é a sua idade?43\n",
            "Qual é o seu gênero? (Masculino - M ou Feminino - F)M\n",
            "Qual é o seu salário?320\n",
            "Qual é a sua idade?25\n",
            "Qual é o seu gênero? (Masculino - M ou Feminino - F)F\n",
            "Qual é o seu salário?430\n",
            "Qual é a sua idade?28\n",
            "Qual é o seu gênero? (Masculino - M ou Feminino - F)M\n",
            "Qual é o seu salário?350\n",
            "Qual é a sua idade?31\n",
            "Qual é o seu gênero? (Masculino - M ou Feminino - F)M\n",
            "Qual é o seu salário?310\n",
            "Qual é a sua idade?26\n",
            "Qual é o seu gênero? (Masculino - M ou Feminino - F)M\n",
            "Qual é o seu salário?380\n",
            "Qual é a sua idade?27\n",
            "Qual é o seu gênero? (Masculino - M ou Feminino - F)M\n",
            "Qual é o seu salário?420\n",
            "Qual é a sua idade?34\n",
            "Qual é o seu gênero? (Masculino - M ou Feminino - F)F\n",
            "Qual é o seu salário?320\n",
            "Qual é a sua idade?28\n",
            "Qual é o seu gênero? (Masculino - M ou Feminino - F)F\n",
            "Qual é o seu salário?320\n",
            "Qual é a sua idade?30\n",
            "Qual é o seu gênero? (Masculino - M ou Feminino - F)M\n",
            "Qual é o seu salário?250\n",
            "Qual é a sua idade?27\n",
            "Qual é o seu gênero? (Masculino - M ou Feminino - F)M\n",
            "Qual é o seu salário?370\n",
            "Qual é a sua idade?28\n",
            "Qual é o seu gênero? (Masculino - M ou Feminino - F)F\n",
            "Qual é o seu salário?400\n",
            "Qual é a sua idade?45\n",
            "Qual é o seu gênero? (Masculino - M ou Feminino - F)F\n",
            "Qual é o seu salário?280\n",
            "Qual é a sua idade?23\n",
            "Qual é o seu gênero? (Masculino - M ou Feminino - F)F\n",
            "Qual é o seu salário?230\n",
            "A média de idades das pessoas que responderam a pesquisa é  28\n",
            "A média salarial de homens que responderam a pesquisa é  357.14285714285717\n"
          ]
        }
      ],
      "source": [
        "# Definindo as variáveis para a resolução do problema\n",
        "quantidade = 0\n",
        "T_idade = 0\n",
        "T_salario = 0\n",
        "\n",
        "# Criando a repetição\n",
        "for pessoas in range (0,30):\n",
        "  idade = int(input('Qual é a sua idade?'))\n",
        "  genero = str(input('Qual é o seu gênero? (Masculino - M ou Feminino - F)'))\n",
        "  salario = float(input('Qual é o seu salário?'))\n",
        "  \n",
        "  T_idade += idade\n",
        "\n",
        "  if genero == 'M':\n",
        "    T_salario += salario\n",
        "\n",
        "    quantidade += 1\n",
        "\n",
        "# Gerando os resultados\n",
        "print('A média de idades das pessoas que responderam a pesquisa é ' ,int(round(T_idade/30)) )\n",
        "print('A média salarial de homens que responderam a pesquisa é ' ,float(T_salario/quantidade))"
      ]
    }
  ]
}