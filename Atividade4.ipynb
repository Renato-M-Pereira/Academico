{
  "nbformat": 4,
  "nbformat_minor": 0,
  "metadata": {
    "colab": {
      "name": "Atividade4.ipynb",
      "provenance": [],
      "authorship_tag": "ABX9TyN9fKRVLhznG0DuIP/en13A",
      "include_colab_link": true
    },
    "kernelspec": {
      "name": "python3",
      "display_name": "Python 3"
    },
    "language_info": {
      "name": "python"
    }
  },
  "cells": [
    {
      "cell_type": "markdown",
      "metadata": {
        "id": "view-in-github",
        "colab_type": "text"
      },
      "source": [
        "<a href=\"https://colab.research.google.com/github/Renato-M-Pereira/Academico/blob/main/Atividade4.ipynb\" target=\"_parent\"><img src=\"https://colab.research.google.com/assets/colab-badge.svg\" alt=\"Open In Colab\"/></a>"
      ]
    },
    {
      "cell_type": "markdown",
      "source": [
        "# **Sobre o projeto**\n",
        "\n",
        "Atividade acadêmica realizada em **Python**."
      ],
      "metadata": {
        "id": "YRRQ8NGhOYG_"
      }
    },
    {
      "cell_type": "markdown",
      "source": [
        "# **Atividade 4**\n",
        "A Escola precisa definir a Comissão de Formatura e, para isso, precisa formar os grupos que cuidarão cada um de assuntos específicos, para auxiliar nesse processo e saber de quantas formas distintas é possível escolher os integrantes do grupo, de acordo com a quantidade de elementos de cada grupo e a quantidade de alunos da turma.\n",
        "A Escola solicitou a você o desenvolvimento de um Programa para isso. Assim, faça um Programa utilizando a linguagem Python que solicite ao usuário a quantidade de alunos de uma turma e a quantidade de elementos que pode cada grupo terá. Calcule e mostre quantos grupos diferentes podem ser formados, considerando a quantidade de elementos e de alunos fornecidos."
      ],
      "metadata": {
        "id": "TPtPNj5DOL-3"
      }
    },
    {
      "cell_type": "code",
      "execution_count": 7,
      "metadata": {
        "colab": {
          "base_uri": "https://localhost:8080/",
          "height": 0
        },
        "id": "e6IQyfHmIfdn",
        "outputId": "974b5c9e-c044-4731-d2f4-8e65e82d4173"
      },
      "outputs": [
        {
          "output_type": "stream",
          "name": "stdout",
          "text": [
            "Qual é a quantidade de elementos no grupo?5\n",
            "Qual é a quantidade de alunos?25\n",
            "A quantidade de grupos é: 5\n",
            "A quantidade de alunos é: 25\n",
            "O total de combinações possíveis é: 53130\n"
          ]
        }
      ],
      "source": [
        "# Importando a lib que usaremos\n",
        "from math import factorial\n",
        "\n",
        "# Construindo o código\n",
        "grupos = int(input('Qual é a quantidade de elementos no grupo?'))\n",
        "alunos = int(input('Qual é a quantidade de alunos?'))\n",
        "\n",
        "combinacoes = int(factorial(alunos)/(factorial(grupos)*(factorial(alunos - grupos))))\n",
        "\n",
        "# Mostrando os resultado\n",
        "print('A quantidade de grupos é:', grupos)\n",
        "print('A quantidade de alunos é:', alunos)\n",
        "print('O total de combinações possíveis é:', combinacoes)"
      ]
    },
    {
      "cell_type": "code",
      "source": [
        ""
      ],
      "metadata": {
        "id": "qK53KcPlMuPz"
      },
      "execution_count": 5,
      "outputs": []
    }
  ]
}