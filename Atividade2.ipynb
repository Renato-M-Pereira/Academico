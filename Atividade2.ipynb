{
  "nbformat": 4,
  "nbformat_minor": 0,
  "metadata": {
    "colab": {
      "name": "Atividade2.ipynb",
      "provenance": [],
      "authorship_tag": "ABX9TyM1vkYCQxmlrR/Fg7yo6kT8",
      "include_colab_link": true
    },
    "kernelspec": {
      "name": "python3",
      "display_name": "Python 3"
    },
    "language_info": {
      "name": "python"
    }
  },
  "cells": [
    {
      "cell_type": "markdown",
      "metadata": {
        "id": "view-in-github",
        "colab_type": "text"
      },
      "source": [
        "<a href=\"https://colab.research.google.com/github/Renato-M-Pereira/Academico/blob/main/Atividade2.ipynb\" target=\"_parent\"><img src=\"https://colab.research.google.com/assets/colab-badge.svg\" alt=\"Open In Colab\"/></a>"
      ]
    },
    {
      "cell_type": "markdown",
      "source": [
        "# **Sobre o projeto**\n",
        "\n",
        "Atividade acadêmica realizada em **Python**."
      ],
      "metadata": {
        "id": "H2uU1-x1YIPl"
      }
    },
    {
      "cell_type": "markdown",
      "source": [
        "**Atividade 2**\n",
        "\n",
        "Sabe-se que as notas dos alunos de uma Escola estão no intervalo de 0 a 10 e a Escola tem como objetivo realizar uma análise estatística sobre essas notas.\n",
        "Faça um Programa utilizando a linguagem Python que solicite ao usuário de cada aluno uma única nota (são 20 alunos) e as armazene em uma lista.\n",
        "Calcule e mostre:\n",
        "\n",
        "a) A média aritmética das notas;\n",
        "\n",
        "b) A variância das notas;\n",
        "\n",
        "c) O desvio padrão."
      ],
      "metadata": {
        "id": "eRg0F61iXm--"
      }
    },
    {
      "cell_type": "code",
      "execution_count": 1,
      "metadata": {
        "id": "QwLJFbANR4RY"
      },
      "outputs": [],
      "source": [
        "# Usaremos o Numpy para os cálculos da atividade\n",
        "import numpy as np"
      ]
    },
    {
      "cell_type": "code",
      "source": [
        "# Definindo as varáveis\n",
        "qtd_alunos = 20\n",
        "total_notas = 0\n",
        "\n",
        "notas = []\n",
        "\n",
        "#Criando a repetição\n",
        "for alunos in range (0,20):\n",
        "  nota = int(input('Qual é a sua nota? '))\n",
        "  if nota >= 0 and nota <= 10:\n",
        "    notas.append(nota)\n",
        "  else:\n",
        "    print('Nota inválida, a nota deve ser um número entre 0 e 10.')\n",
        "\n",
        "print(notas)"
      ],
      "metadata": {
        "colab": {
          "base_uri": "https://localhost:8080/",
          "height": 0
        },
        "id": "zdLmOmtJSnDu",
        "outputId": "7aca027b-bf1a-4f2f-c744-cd97f3b61f15"
      },
      "execution_count": 13,
      "outputs": [
        {
          "output_type": "stream",
          "name": "stdout",
          "text": [
            "Qual é a sua nota? 5\n",
            "Qual é a sua nota? 6\n",
            "Qual é a sua nota? 3\n",
            "Qual é a sua nota? 9\n",
            "Qual é a sua nota? 7\n",
            "Qual é a sua nota? 6\n",
            "Qual é a sua nota? 44\n",
            "Nota inválida, a nota deve ser um número entre 0 e 10.\n",
            "Qual é a sua nota? 7\n",
            "Qual é a sua nota? 9\n",
            "Qual é a sua nota? 6\n",
            "Qual é a sua nota? 8\n",
            "Qual é a sua nota? 7\n",
            "Qual é a sua nota? 6\n",
            "Qual é a sua nota? 5\n",
            "Qual é a sua nota? 87\n",
            "Nota inválida, a nota deve ser um número entre 0 e 10.\n",
            "Qual é a sua nota? 7\n",
            "Qual é a sua nota? 5\n",
            "Qual é a sua nota? 6\n",
            "Qual é a sua nota? 9\n",
            "Qual é a sua nota? 7\n",
            "[5, 6, 3, 9, 7, 6, 7, 9, 6, 8, 7, 6, 5, 7, 5, 6, 9, 7]\n"
          ]
        }
      ]
    },
    {
      "cell_type": "code",
      "source": [
        "# Calculando as métricas\n",
        "print('A Média das notas é:', np.average(notas))\n",
        "print('A Variância das notas é:', np.var(notas))\n",
        "print('O Desvio Padrão das notas é:', np.std(notas))"
      ],
      "metadata": {
        "colab": {
          "base_uri": "https://localhost:8080/",
          "height": 0
        },
        "id": "b9C2QGPOVz8n",
        "outputId": "3e01f091-e5a9-4d2e-fde0-b31c2e5ef092"
      },
      "execution_count": 14,
      "outputs": [
        {
          "output_type": "stream",
          "name": "stdout",
          "text": [
            "A Média das notas é: 6.555555555555555\n",
            "A Variância das notas é: 2.3580246913580245\n",
            "O Desvio Padrão das notas é: 1.5355861067872503\n"
          ]
        }
      ]
    }
  ]
}