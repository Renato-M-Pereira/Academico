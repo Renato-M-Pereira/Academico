{
  "nbformat": 4,
  "nbformat_minor": 0,
  "metadata": {
    "colab": {
      "name": "Atividade3.ipynb",
      "provenance": [],
      "authorship_tag": "ABX9TyMbP4Y0AxVrPGrskLB42V3C",
      "include_colab_link": true
    },
    "kernelspec": {
      "name": "python3",
      "display_name": "Python 3"
    },
    "language_info": {
      "name": "python"
    }
  },
  "cells": [
    {
      "cell_type": "markdown",
      "metadata": {
        "id": "view-in-github",
        "colab_type": "text"
      },
      "source": [
        "<a href=\"https://colab.research.google.com/github/Renato-M-Pereira/Academico/blob/main/Atividade3.ipynb\" target=\"_parent\"><img src=\"https://colab.research.google.com/assets/colab-badge.svg\" alt=\"Open In Colab\"/></a>"
      ]
    },
    {
      "cell_type": "markdown",
      "source": [
        "# **Sobre o projeto**\n",
        "\n",
        "Atividade acadêmica realizada em **Python**."
      ],
      "metadata": {
        "id": "w5_2VHZrDs8Y"
      }
    },
    {
      "cell_type": "markdown",
      "source": [
        "**Atividade 3**\n",
        "\n",
        "Ao final de uma competição de Ciências em uma Escola, restaram apenas três candidatos. De acordo com as regras, o vencedor será o candidato que obtiver a maior média ponderada entre as notas das provas finais de Química e Física, considerando, respectivamente, os pesos 4 e 6 para elas.\n",
        "Faça um Programa utilizando a linguagem Python que solicite as notas de Química e de Física de cada um dos três candidatos. Calcule e mostre a média ponderada de cada um e mostre o vencedor, ou seja, o que possuir a maior média ponderada."
      ],
      "metadata": {
        "id": "KDl51t2eDZ3T"
      }
    },
    {
      "cell_type": "code",
      "execution_count": 2,
      "metadata": {
        "colab": {
          "base_uri": "https://localhost:8080/",
          "height": 0
        },
        "id": "1PIceNSq7QIh",
        "outputId": "c2a26152-e882-405a-c5bd-d2d30a1bd6fe"
      },
      "outputs": [
        {
          "output_type": "stream",
          "name": "stdout",
          "text": [
            "Digite a nota de química 6\n",
            "Digite a nota de física 7\n",
            "Digite a nota de química 8\n",
            "Digite a nota de física 6.5\n",
            "Digite a nota de química 8.5\n",
            "Digite a nota de física 5\n",
            "[6.0, 8.0, 8.5]\n",
            "[7.0, 6.5, 5.0]\n",
            "[6.6, 7.1, 6.4]\n",
            "A média do candidato 1 é: 6.6\n",
            "A média do candidato 2 é: 7.1\n",
            "A média do candidato 3 é: 6.4\n",
            "A maior média ponderada é do candidato: 2\n"
          ]
        }
      ],
      "source": [
        "# Criando listas de notas e adicionando pesos\n",
        "lista_quim = []\n",
        "lista_fis = []\n",
        "media_pond = []\n",
        "\n",
        "peso_quimica = 4\n",
        "peso_fisica = 6\n",
        "\n",
        "# Criando a repetição\n",
        "for candidatos in range (0,3):\n",
        "  quimica = float(input('Digite a nota de química '))\n",
        "  fisica = float(input('Digite a nota de física '))\n",
        "  lista_quim.append(quimica)\n",
        "  lista_fis.append(fisica)\n",
        "\n",
        "# Fórmula para cálculo da média ponderada\n",
        "  media_ponderada = (quimica * peso_quimica + fisica * peso_fisica) / (peso_quimica + peso_fisica)\n",
        "  media_pond.append(media_ponderada)\n",
        "\n",
        "print(lista_quim)\n",
        "print(lista_fis)\n",
        "print(media_pond)\n",
        "\n",
        "print('A média do candidato 1 é:', media_pond[0])\n",
        "print('A média do candidato 2 é:', media_pond[1])\n",
        "print('A média do candidato 3 é:', media_pond[2])\n",
        "\n",
        "# Calculando a méedia ponderada e mostrando a maior\n",
        "maior_media = max(media_pond)\n",
        "\n",
        "cand_maior_media = media_pond.index(maior_media) + 1\n",
        "\n",
        "print('A maior média ponderada é do candidato:', cand_maior_media)"
      ]
    }
  ]
}